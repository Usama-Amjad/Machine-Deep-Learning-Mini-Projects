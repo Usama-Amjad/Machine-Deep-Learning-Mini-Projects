{
  "cells": [
    {
      "cell_type": "markdown",
      "metadata": {},
      "source": [
        "<p style=\"text-align:center\">\n",
        "    <a href=\"https://skills.network/?utm_medium=Exinfluencer&utm_source=Exinfluencer&utm_content=000026UJ&utm_term=10006555&utm_id=NA-SkillsNetwork-Channel-SkillsNetworkCoursesIBMDeveloperSkillsNetworkML0101ENSkillsNetwork20718538-2022-01-01\" target=\"_blank\">\n",
        "    <img src=\"https://cf-courses-data.s3.us.cloud-object-storage.appdomain.cloud/assets/logos/SN_web_lightmode.png\" width=\"200\" alt=\"Skills Network Logo\"  />\n",
        "    </a>\n",
        "</p>\n",
        "\n",
        "<h1 align=\"center\"><font size=\"5\">Final Project: Classification with Python</font></h1>\n"
      ]
    },
    {
      "cell_type": "markdown",
      "metadata": {},
      "source": [
        "<h2>Table of Contents</h2>\n",
        "<div class=\"alert alert-block alert-info\" style=\"margin-top: 20px\">\n",
        "    <ul>\n",
        "    <li><a href=\"https://#Section_1\">Instructions</a></li>\n",
        "    <li><a href=\"https://#Section_2\">About the Data</a></li>\n",
        "    <li><a href=\"https://#Section_3\">Importing Data </a></li>\n",
        "    <li><a href=\"https://#Section_4\">Data Preprocessing</a> </li>\n",
        "    <li><a href=\"https://#Section_5\">One Hot Encoding </a></li>\n",
        "    <li><a href=\"https://#Section_6\">Train and Test Data Split </a></li>\n",
        "    <li><a href=\"https://#Section_7\">Train Logistic Regression, KNN, Decision Tree, SVM, and Linear Regression models and return their appropriate accuracy scores</a></li>\n",
        "</a></li>\n",
        "</div>\n",
        "<p>Estimated Time Needed: <strong>180 min</strong></p>\n",
        "</div>\n",
        "\n",
        "<hr>\n"
      ]
    },
    {
      "cell_type": "markdown",
      "metadata": {},
      "source": [
        "# Instructions\n"
      ]
    },
    {
      "cell_type": "markdown",
      "metadata": {},
      "source": [
        "In this notebook, you will  practice all the classification algorithms that we have learned in this course.\n",
        "\n",
        "Below, is where we are going to use the classification algorithms to create a model based on our training data and evaluate our testing data using evaluation metrics learned in the course.\n",
        "\n",
        "We will use some of the algorithms taught in the course, specifically:\n",
        "\n",
        "1.  Linear Regression\n",
        "2.  KNN\n",
        "3.  Decision Trees\n",
        "4.  Logistic Regression\n",
        "5.  SVM\n",
        "\n",
        "We will evaluate our models using:\n",
        "\n",
        "1.  Accuracy Score\n",
        "2.  Jaccard Index\n",
        "3.  F1-Score\n",
        "4.  LogLoss\n",
        "5.  Mean Absolute Error\n",
        "6.  Mean Squared Error\n",
        "7.  R2-Score\n",
        "\n",
        "Finally, you will use your models to generate the report at the end.\n"
      ]
    },
    {
      "cell_type": "markdown",
      "metadata": {},
      "source": [
        "# About The Dataset\n"
      ]
    },
    {
      "cell_type": "markdown",
      "metadata": {},
      "source": [
        "The original source of the data is Australian Government's Bureau of Meteorology and the latest data can be gathered from [http://www.bom.gov.au/climate/dwo/](http://www.bom.gov.au/climate/dwo/?utm_medium=Exinfluencer&utm_source=Exinfluencer&utm_content=000026UJ&utm_term=10006555&utm_id=NA-SkillsNetwork-Channel-SkillsNetworkCoursesIBMDeveloperSkillsNetworkML0101ENSkillsNetwork20718538-2022-01-01).\n",
        "\n",
        "The dataset to be used has extra columns like 'RainToday' and our target is 'RainTomorrow', which was gathered from the Rattle at [https://bitbucket.org/kayontoga/rattle/src/master/data/weatherAUS.RData](https://bitbucket.org/kayontoga/rattle/src/master/data/weatherAUS.RData?utm_medium=Exinfluencer&utm_source=Exinfluencer&utm_content=000026UJ&utm_term=10006555&utm_id=NA-SkillsNetwork-Channel-SkillsNetworkCoursesIBMDeveloperSkillsNetworkML0101ENSkillsNetwork20718538-2022-01-01)\n"
      ]
    },
    {
      "cell_type": "markdown",
      "metadata": {},
      "source": [
        "This dataset contains observations of weather metrics for each day from 2008 to 2017. The **weatherAUS.csv** dataset includes the following fields:\n",
        "\n",
        "| Field         | Description                                           | Unit            | Type   |\n",
        "| ------------- | ----------------------------------------------------- | --------------- | ------ |\n",
        "| Date          | Date of the Observation in YYYY-MM-DD                 | Date            | object |\n",
        "| Location      | Location of the Observation                           | Location        | object |\n",
        "| MinTemp       | Minimum temperature                                   | Celsius         | float  |\n",
        "| MaxTemp       | Maximum temperature                                   | Celsius         | float  |\n",
        "| Rainfall      | Amount of rainfall                                    | Millimeters     | float  |\n",
        "| Evaporation   | Amount of evaporation                                 | Millimeters     | float  |\n",
        "| Sunshine      | Amount of bright sunshine                             | hours           | float  |\n",
        "| WindGustDir   | Direction of the strongest gust                       | Compass Points  | object |\n",
        "| WindGustSpeed | Speed of the strongest gust                           | Kilometers/Hour | object |\n",
        "| WindDir9am    | Wind direction averaged of 10 minutes prior to 9am    | Compass Points  | object |\n",
        "| WindDir3pm    | Wind direction averaged of 10 minutes prior to 3pm    | Compass Points  | object |\n",
        "| WindSpeed9am  | Wind speed averaged of 10 minutes prior to 9am        | Kilometers/Hour | float  |\n",
        "| WindSpeed3pm  | Wind speed averaged of 10 minutes prior to 3pm        | Kilometers/Hour | float  |\n",
        "| Humidity9am   | Humidity at 9am                                       | Percent         | float  |\n",
        "| Humidity3pm   | Humidity at 3pm                                       | Percent         | float  |\n",
        "| Pressure9am   | Atmospheric pressure reduced to mean sea level at 9am | Hectopascal     | float  |\n",
        "| Pressure3pm   | Atmospheric pressure reduced to mean sea level at 3pm | Hectopascal     | float  |\n",
        "| Cloud9am      | Fraction of the sky obscured by cloud at 9am          | Eights          | float  |\n",
        "| Cloud3pm      | Fraction of the sky obscured by cloud at 3pm          | Eights          | float  |\n",
        "| Temp9am       | Temperature at 9am                                    | Celsius         | float  |\n",
        "| Temp3pm       | Temperature at 3pm                                    | Celsius         | float  |\n",
        "| RainToday     | If there was rain today                               | Yes/No          | object |\n",
        "| RISK_MM       | Amount of rain tomorrow                               | Millimeters     | float  |\n",
        "| RainTomorrow  | If there is rain tomorrow                             | Yes/No          | float  |\n",
        "\n",
        "Column definitions were gathered from [http://www.bom.gov.au/climate/dwo/IDCJDW0000.shtml](http://www.bom.gov.au/climate/dwo/IDCJDW0000.shtml?utm_medium=Exinfluencer&utm_source=Exinfluencer&utm_content=000026UJ&utm_term=10006555&utm_id=NA-SkillsNetwork-Channel-SkillsNetworkCoursesIBMDeveloperSkillsNetworkML0101ENSkillsNetwork20718538-2022-01-01)\n"
      ]
    },
    {
      "cell_type": "markdown",
      "metadata": {},
      "source": [
        "## **Import the required libraries**\n"
      ]
    },
    {
      "cell_type": "code",
      "execution_count": null,
      "metadata": {},
      "outputs": [],
      "source": [
        "# All Libraries required for this lab are listed below. The libraries pre-installed on Skills Network Labs are commented.\n",
        "# !mamba install -qy pandas==1.3.4 numpy==1.21.4 seaborn==0.9.0 matplotlib==3.5.0 scikit-learn==0.20.1\n",
        "# Note: If your environment doesn't support \"!mamba install\", use \"!pip install\""
      ]
    },
    {
      "cell_type": "code",
      "execution_count": 2,
      "metadata": {
        "trusted": true
      },
      "outputs": [],
      "source": [
        "# Surpress warnings:\n",
        "def warn(*args, **kwargs):\n",
        "    pass\n",
        "import warnings\n",
        "warnings.warn = warn"
      ]
    },
    {
      "cell_type": "code",
      "execution_count": 3,
      "metadata": {
        "trusted": true
      },
      "outputs": [],
      "source": [
        "#you are running the lab in your  browser, so we will install the libraries using ``piplite``\n",
        "import piplite\n",
        "await piplite.install(['pandas'])\n",
        "await piplite.install(['numpy'])\n",
        "\n"
      ]
    },
    {
      "cell_type": "code",
      "execution_count": 4,
      "metadata": {
        "trusted": true
      },
      "outputs": [],
      "source": [
        "import pandas as pd\n",
        "from sklearn.linear_model import LogisticRegression\n",
        "from sklearn.linear_model import LinearRegression\n",
        "from sklearn import preprocessing\n",
        "import numpy as np\n",
        "from sklearn.neighbors import KNeighborsClassifier\n",
        "from sklearn.model_selection import train_test_split\n",
        "from sklearn.neighbors import KNeighborsClassifier\n",
        "from sklearn.tree import DecisionTreeClassifier\n",
        "from sklearn import svm\n",
        "from sklearn.metrics import jaccard_score\n",
        "from sklearn.metrics import f1_score\n",
        "from sklearn.metrics import log_loss\n",
        "from sklearn.metrics import confusion_matrix, accuracy_score\n",
        "import sklearn.metrics as metrics"
      ]
    },
    {
      "cell_type": "markdown",
      "metadata": {},
      "source": [
        "### Importing the Dataset\n"
      ]
    },
    {
      "cell_type": "code",
      "execution_count": 5,
      "metadata": {
        "trusted": true
      },
      "outputs": [],
      "source": [
        "from pyodide.http import pyfetch\n",
        "\n",
        "async def download(url, filename):\n",
        "    response = await pyfetch(url)\n",
        "    if response.status == 200:\n",
        "        with open(filename, \"wb\") as f:\n",
        "            f.write(await response.bytes())"
      ]
    },
    {
      "cell_type": "code",
      "execution_count": 6,
      "metadata": {
        "trusted": true
      },
      "outputs": [],
      "source": [
        "path='https://cf-courses-data.s3.us.cloud-object-storage.appdomain.cloud/IBMDeveloperSkillsNetwork-ML0101EN-SkillUp/labs/ML-FinalAssignment/Weather_Data.csv'"
      ]
    },
    {
      "cell_type": "code",
      "execution_count": 7,
      "metadata": {
        "trusted": true
      },
      "outputs": [],
      "source": [
        "await download(path, \"Weather_Data.csv\")\n",
        "filename =\"Weather_Data.csv\""
      ]
    },
    {
      "cell_type": "code",
      "execution_count": 8,
      "metadata": {
        "trusted": true
      },
      "outputs": [
        {
          "data": {
            "text/plain": [
              "(3271, 22)"
            ]
          },
          "execution_count": 8,
          "metadata": {},
          "output_type": "execute_result"
        }
      ],
      "source": [
        "df = pd.read_csv(\"Weather_Data.csv\")\n",
        "df.head()\n",
        "df.shape"
      ]
    },
    {
      "cell_type": "markdown",
      "metadata": {},
      "source": [
        "### Data Preprocessing\n"
      ]
    },
    {
      "cell_type": "markdown",
      "metadata": {},
      "source": [
        "#### One Hot Encoding\n"
      ]
    },
    {
      "cell_type": "markdown",
      "metadata": {},
      "source": [
        "First, we need to perform one hot encoding to convert categorical variables to binary variables.\n"
      ]
    },
    {
      "cell_type": "code",
      "execution_count": 9,
      "metadata": {
        "trusted": true
      },
      "outputs": [
        {
          "data": {
            "text/html": [
              "<div>\n",
              "<style scoped>\n",
              "    .dataframe tbody tr th:only-of-type {\n",
              "        vertical-align: middle;\n",
              "    }\n",
              "\n",
              "    .dataframe tbody tr th {\n",
              "        vertical-align: top;\n",
              "    }\n",
              "\n",
              "    .dataframe thead th {\n",
              "        text-align: right;\n",
              "    }\n",
              "</style>\n",
              "<table border=\"1\" class=\"dataframe\">\n",
              "  <thead>\n",
              "    <tr style=\"text-align: right;\">\n",
              "      <th></th>\n",
              "      <th>Date</th>\n",
              "      <th>MinTemp</th>\n",
              "      <th>MaxTemp</th>\n",
              "      <th>Rainfall</th>\n",
              "      <th>Evaporation</th>\n",
              "      <th>Sunshine</th>\n",
              "      <th>WindGustSpeed</th>\n",
              "      <th>WindSpeed9am</th>\n",
              "      <th>WindSpeed3pm</th>\n",
              "      <th>Humidity9am</th>\n",
              "      <th>...</th>\n",
              "      <th>WindDir3pm_NNW</th>\n",
              "      <th>WindDir3pm_NW</th>\n",
              "      <th>WindDir3pm_S</th>\n",
              "      <th>WindDir3pm_SE</th>\n",
              "      <th>WindDir3pm_SSE</th>\n",
              "      <th>WindDir3pm_SSW</th>\n",
              "      <th>WindDir3pm_SW</th>\n",
              "      <th>WindDir3pm_W</th>\n",
              "      <th>WindDir3pm_WNW</th>\n",
              "      <th>WindDir3pm_WSW</th>\n",
              "    </tr>\n",
              "  </thead>\n",
              "  <tbody>\n",
              "    <tr>\n",
              "      <th>0</th>\n",
              "      <td>2/1/2008</td>\n",
              "      <td>19.5</td>\n",
              "      <td>22.4</td>\n",
              "      <td>15.6</td>\n",
              "      <td>6.2</td>\n",
              "      <td>0.0</td>\n",
              "      <td>41</td>\n",
              "      <td>17</td>\n",
              "      <td>20</td>\n",
              "      <td>92</td>\n",
              "      <td>...</td>\n",
              "      <td>0</td>\n",
              "      <td>0</td>\n",
              "      <td>0</td>\n",
              "      <td>0</td>\n",
              "      <td>0</td>\n",
              "      <td>1</td>\n",
              "      <td>0</td>\n",
              "      <td>0</td>\n",
              "      <td>0</td>\n",
              "      <td>0</td>\n",
              "    </tr>\n",
              "    <tr>\n",
              "      <th>1</th>\n",
              "      <td>2/2/2008</td>\n",
              "      <td>19.5</td>\n",
              "      <td>25.6</td>\n",
              "      <td>6.0</td>\n",
              "      <td>3.4</td>\n",
              "      <td>2.7</td>\n",
              "      <td>41</td>\n",
              "      <td>9</td>\n",
              "      <td>13</td>\n",
              "      <td>83</td>\n",
              "      <td>...</td>\n",
              "      <td>0</td>\n",
              "      <td>0</td>\n",
              "      <td>0</td>\n",
              "      <td>0</td>\n",
              "      <td>0</td>\n",
              "      <td>0</td>\n",
              "      <td>0</td>\n",
              "      <td>0</td>\n",
              "      <td>0</td>\n",
              "      <td>0</td>\n",
              "    </tr>\n",
              "    <tr>\n",
              "      <th>2</th>\n",
              "      <td>2/3/2008</td>\n",
              "      <td>21.6</td>\n",
              "      <td>24.5</td>\n",
              "      <td>6.6</td>\n",
              "      <td>2.4</td>\n",
              "      <td>0.1</td>\n",
              "      <td>41</td>\n",
              "      <td>17</td>\n",
              "      <td>2</td>\n",
              "      <td>88</td>\n",
              "      <td>...</td>\n",
              "      <td>0</td>\n",
              "      <td>0</td>\n",
              "      <td>0</td>\n",
              "      <td>0</td>\n",
              "      <td>0</td>\n",
              "      <td>0</td>\n",
              "      <td>0</td>\n",
              "      <td>0</td>\n",
              "      <td>0</td>\n",
              "      <td>0</td>\n",
              "    </tr>\n",
              "    <tr>\n",
              "      <th>3</th>\n",
              "      <td>2/4/2008</td>\n",
              "      <td>20.2</td>\n",
              "      <td>22.8</td>\n",
              "      <td>18.8</td>\n",
              "      <td>2.2</td>\n",
              "      <td>0.0</td>\n",
              "      <td>41</td>\n",
              "      <td>22</td>\n",
              "      <td>20</td>\n",
              "      <td>83</td>\n",
              "      <td>...</td>\n",
              "      <td>0</td>\n",
              "      <td>0</td>\n",
              "      <td>0</td>\n",
              "      <td>0</td>\n",
              "      <td>0</td>\n",
              "      <td>0</td>\n",
              "      <td>0</td>\n",
              "      <td>0</td>\n",
              "      <td>0</td>\n",
              "      <td>0</td>\n",
              "    </tr>\n",
              "    <tr>\n",
              "      <th>4</th>\n",
              "      <td>2/5/2008</td>\n",
              "      <td>19.7</td>\n",
              "      <td>25.7</td>\n",
              "      <td>77.4</td>\n",
              "      <td>4.8</td>\n",
              "      <td>0.0</td>\n",
              "      <td>41</td>\n",
              "      <td>11</td>\n",
              "      <td>6</td>\n",
              "      <td>88</td>\n",
              "      <td>...</td>\n",
              "      <td>0</td>\n",
              "      <td>0</td>\n",
              "      <td>0</td>\n",
              "      <td>0</td>\n",
              "      <td>0</td>\n",
              "      <td>0</td>\n",
              "      <td>0</td>\n",
              "      <td>1</td>\n",
              "      <td>0</td>\n",
              "      <td>0</td>\n",
              "    </tr>\n",
              "    <tr>\n",
              "      <th>...</th>\n",
              "      <td>...</td>\n",
              "      <td>...</td>\n",
              "      <td>...</td>\n",
              "      <td>...</td>\n",
              "      <td>...</td>\n",
              "      <td>...</td>\n",
              "      <td>...</td>\n",
              "      <td>...</td>\n",
              "      <td>...</td>\n",
              "      <td>...</td>\n",
              "      <td>...</td>\n",
              "      <td>...</td>\n",
              "      <td>...</td>\n",
              "      <td>...</td>\n",
              "      <td>...</td>\n",
              "      <td>...</td>\n",
              "      <td>...</td>\n",
              "      <td>...</td>\n",
              "      <td>...</td>\n",
              "      <td>...</td>\n",
              "      <td>...</td>\n",
              "    </tr>\n",
              "    <tr>\n",
              "      <th>3266</th>\n",
              "      <td>6/21/2017</td>\n",
              "      <td>8.6</td>\n",
              "      <td>19.6</td>\n",
              "      <td>0.0</td>\n",
              "      <td>2.0</td>\n",
              "      <td>7.8</td>\n",
              "      <td>37</td>\n",
              "      <td>22</td>\n",
              "      <td>20</td>\n",
              "      <td>73</td>\n",
              "      <td>...</td>\n",
              "      <td>0</td>\n",
              "      <td>0</td>\n",
              "      <td>0</td>\n",
              "      <td>0</td>\n",
              "      <td>1</td>\n",
              "      <td>0</td>\n",
              "      <td>0</td>\n",
              "      <td>0</td>\n",
              "      <td>0</td>\n",
              "      <td>0</td>\n",
              "    </tr>\n",
              "    <tr>\n",
              "      <th>3267</th>\n",
              "      <td>6/22/2017</td>\n",
              "      <td>9.3</td>\n",
              "      <td>19.2</td>\n",
              "      <td>0.0</td>\n",
              "      <td>2.0</td>\n",
              "      <td>9.2</td>\n",
              "      <td>30</td>\n",
              "      <td>20</td>\n",
              "      <td>7</td>\n",
              "      <td>78</td>\n",
              "      <td>...</td>\n",
              "      <td>0</td>\n",
              "      <td>0</td>\n",
              "      <td>0</td>\n",
              "      <td>0</td>\n",
              "      <td>0</td>\n",
              "      <td>0</td>\n",
              "      <td>0</td>\n",
              "      <td>0</td>\n",
              "      <td>0</td>\n",
              "      <td>0</td>\n",
              "    </tr>\n",
              "    <tr>\n",
              "      <th>3268</th>\n",
              "      <td>6/23/2017</td>\n",
              "      <td>9.4</td>\n",
              "      <td>17.7</td>\n",
              "      <td>0.0</td>\n",
              "      <td>2.4</td>\n",
              "      <td>2.7</td>\n",
              "      <td>24</td>\n",
              "      <td>15</td>\n",
              "      <td>13</td>\n",
              "      <td>85</td>\n",
              "      <td>...</td>\n",
              "      <td>0</td>\n",
              "      <td>0</td>\n",
              "      <td>0</td>\n",
              "      <td>0</td>\n",
              "      <td>0</td>\n",
              "      <td>0</td>\n",
              "      <td>0</td>\n",
              "      <td>0</td>\n",
              "      <td>0</td>\n",
              "      <td>0</td>\n",
              "    </tr>\n",
              "    <tr>\n",
              "      <th>3269</th>\n",
              "      <td>6/24/2017</td>\n",
              "      <td>10.1</td>\n",
              "      <td>19.3</td>\n",
              "      <td>0.0</td>\n",
              "      <td>1.4</td>\n",
              "      <td>9.3</td>\n",
              "      <td>43</td>\n",
              "      <td>17</td>\n",
              "      <td>19</td>\n",
              "      <td>56</td>\n",
              "      <td>...</td>\n",
              "      <td>0</td>\n",
              "      <td>0</td>\n",
              "      <td>0</td>\n",
              "      <td>0</td>\n",
              "      <td>0</td>\n",
              "      <td>0</td>\n",
              "      <td>0</td>\n",
              "      <td>1</td>\n",
              "      <td>0</td>\n",
              "      <td>0</td>\n",
              "    </tr>\n",
              "    <tr>\n",
              "      <th>3270</th>\n",
              "      <td>6/25/2017</td>\n",
              "      <td>7.6</td>\n",
              "      <td>19.3</td>\n",
              "      <td>0.0</td>\n",
              "      <td>3.4</td>\n",
              "      <td>9.4</td>\n",
              "      <td>35</td>\n",
              "      <td>13</td>\n",
              "      <td>13</td>\n",
              "      <td>73</td>\n",
              "      <td>...</td>\n",
              "      <td>0</td>\n",
              "      <td>0</td>\n",
              "      <td>0</td>\n",
              "      <td>0</td>\n",
              "      <td>0</td>\n",
              "      <td>0</td>\n",
              "      <td>0</td>\n",
              "      <td>1</td>\n",
              "      <td>0</td>\n",
              "      <td>0</td>\n",
              "    </tr>\n",
              "  </tbody>\n",
              "</table>\n",
              "<p>3271 rows × 68 columns</p>\n",
              "</div>"
            ],
            "text/plain": [
              "           Date  MinTemp  MaxTemp  Rainfall  Evaporation  Sunshine  \\\n",
              "0      2/1/2008     19.5     22.4      15.6          6.2       0.0   \n",
              "1      2/2/2008     19.5     25.6       6.0          3.4       2.7   \n",
              "2      2/3/2008     21.6     24.5       6.6          2.4       0.1   \n",
              "3      2/4/2008     20.2     22.8      18.8          2.2       0.0   \n",
              "4      2/5/2008     19.7     25.7      77.4          4.8       0.0   \n",
              "...         ...      ...      ...       ...          ...       ...   \n",
              "3266  6/21/2017      8.6     19.6       0.0          2.0       7.8   \n",
              "3267  6/22/2017      9.3     19.2       0.0          2.0       9.2   \n",
              "3268  6/23/2017      9.4     17.7       0.0          2.4       2.7   \n",
              "3269  6/24/2017     10.1     19.3       0.0          1.4       9.3   \n",
              "3270  6/25/2017      7.6     19.3       0.0          3.4       9.4   \n",
              "\n",
              "      WindGustSpeed  WindSpeed9am  WindSpeed3pm  Humidity9am  ...  \\\n",
              "0                41            17            20           92  ...   \n",
              "1                41             9            13           83  ...   \n",
              "2                41            17             2           88  ...   \n",
              "3                41            22            20           83  ...   \n",
              "4                41            11             6           88  ...   \n",
              "...             ...           ...           ...          ...  ...   \n",
              "3266             37            22            20           73  ...   \n",
              "3267             30            20             7           78  ...   \n",
              "3268             24            15            13           85  ...   \n",
              "3269             43            17            19           56  ...   \n",
              "3270             35            13            13           73  ...   \n",
              "\n",
              "      WindDir3pm_NNW  WindDir3pm_NW  WindDir3pm_S  WindDir3pm_SE  \\\n",
              "0                  0              0             0              0   \n",
              "1                  0              0             0              0   \n",
              "2                  0              0             0              0   \n",
              "3                  0              0             0              0   \n",
              "4                  0              0             0              0   \n",
              "...              ...            ...           ...            ...   \n",
              "3266               0              0             0              0   \n",
              "3267               0              0             0              0   \n",
              "3268               0              0             0              0   \n",
              "3269               0              0             0              0   \n",
              "3270               0              0             0              0   \n",
              "\n",
              "      WindDir3pm_SSE  WindDir3pm_SSW  WindDir3pm_SW WindDir3pm_W  \\\n",
              "0                  0               1              0            0   \n",
              "1                  0               0              0            0   \n",
              "2                  0               0              0            0   \n",
              "3                  0               0              0            0   \n",
              "4                  0               0              0            1   \n",
              "...              ...             ...            ...          ...   \n",
              "3266               1               0              0            0   \n",
              "3267               0               0              0            0   \n",
              "3268               0               0              0            0   \n",
              "3269               0               0              0            1   \n",
              "3270               0               0              0            1   \n",
              "\n",
              "      WindDir3pm_WNW  WindDir3pm_WSW  \n",
              "0                  0               0  \n",
              "1                  0               0  \n",
              "2                  0               0  \n",
              "3                  0               0  \n",
              "4                  0               0  \n",
              "...              ...             ...  \n",
              "3266               0               0  \n",
              "3267               0               0  \n",
              "3268               0               0  \n",
              "3269               0               0  \n",
              "3270               0               0  \n",
              "\n",
              "[3271 rows x 68 columns]"
            ]
          },
          "execution_count": 9,
          "metadata": {},
          "output_type": "execute_result"
        }
      ],
      "source": [
        "df_sydney_processed = pd.get_dummies(data=df, columns=['RainToday', 'WindGustDir', 'WindDir9am', 'WindDir3pm'])\n",
        "df_sydney_processed"
      ]
    },
    {
      "cell_type": "markdown",
      "metadata": {},
      "source": [
        "Next, we replace the values of the 'RainTomorrow' column changing them from a categorical column to a binary column. We do not use the `get_dummies` method because we would end up with two columns for 'RainTomorrow' and we do not want, since 'RainTomorrow' is our target.\n"
      ]
    },
    {
      "cell_type": "code",
      "execution_count": 10,
      "metadata": {
        "trusted": true
      },
      "outputs": [],
      "source": [
        "df_sydney_processed.replace(['No', 'Yes'], [0,1], inplace=True)"
      ]
    },
    {
      "cell_type": "markdown",
      "metadata": {},
      "source": [
        "### Training Data and Test Data\n"
      ]
    },
    {
      "cell_type": "markdown",
      "metadata": {},
      "source": [
        "Now, we set our 'features' or x values and our Y or target variable.\n"
      ]
    },
    {
      "cell_type": "code",
      "execution_count": 11,
      "metadata": {
        "trusted": true
      },
      "outputs": [],
      "source": [
        "df_sydney_processed.drop('Date',axis=1,inplace=True)"
      ]
    },
    {
      "cell_type": "code",
      "execution_count": 12,
      "metadata": {
        "trusted": true
      },
      "outputs": [],
      "source": [
        "df_sydney_processed = df_sydney_processed.astype(float)"
      ]
    },
    {
      "cell_type": "code",
      "execution_count": 13,
      "metadata": {
        "trusted": true
      },
      "outputs": [],
      "source": [
        "features = df_sydney_processed.drop(columns='RainTomorrow', axis=1)\n",
        "Y = df_sydney_processed['RainTomorrow']"
      ]
    },
    {
      "cell_type": "markdown",
      "metadata": {},
      "source": [
        "### Linear Regression\n"
      ]
    },
    {
      "attachments": {},
      "cell_type": "markdown",
      "metadata": {},
      "source": [
        "#### Using the `train_test_split` function to split the `features` and `Y` dataframes with a `test_size` of `0.2` and the `random_state` set to `10`.\n"
      ]
    },
    {
      "cell_type": "code",
      "execution_count": 15,
      "metadata": {
        "trusted": true
      },
      "outputs": [],
      "source": [
        "#Enter Your Code, Execute and take the Screenshot\n",
        "x_train, x_test, y_train, y_test = train_test_split(features,Y,test_size=0.2,random_state=10)"
      ]
    },
    {
      "attachments": {},
      "cell_type": "markdown",
      "metadata": {},
      "source": [
        "#### Create and train a Linear Regression model called LinearReg using the training data (`x_train`, `y_train`).\n"
      ]
    },
    {
      "cell_type": "code",
      "execution_count": 76,
      "metadata": {
        "trusted": true
      },
      "outputs": [
        {
          "data": {
            "text/plain": [
              "LinearRegression()"
            ]
          },
          "execution_count": 76,
          "metadata": {},
          "output_type": "execute_result"
        }
      ],
      "source": [
        "#Enter Your Code, Execute and take the Screenshot\n",
        "LinearReg = LinearRegression().fit(x_train,y_train)\n",
        "LinearReg"
      ]
    },
    {
      "attachments": {},
      "cell_type": "markdown",
      "metadata": {},
      "source": [
        "#### Using the `predict` method on the testing data (`x_test`) and save it to the array `predictions`.\n"
      ]
    },
    {
      "cell_type": "code",
      "execution_count": 77,
      "metadata": {
        "trusted": true
      },
      "outputs": [
        {
          "data": {
            "text/plain": [
              "array([ 3.45797539e-01, -1.08909607e-03,  4.95274544e-01,  2.77886391e-01,\n",
              "        1.53665543e-02,  8.55895042e-01,  2.91912079e-01,  5.65996170e-02,\n",
              "        1.74757957e-01,  2.17452049e-01,  5.83449364e-01,  5.01832008e-01,\n",
              "        3.58304024e-01, -7.68003464e-02, -9.27343369e-02, -6.74867630e-02,\n",
              "        4.78446007e-01,  7.57503510e-03,  7.90014267e-02,  4.41408157e-02,\n",
              "        5.67942619e-01,  8.91676903e-01,  7.43265152e-02,  2.24191666e-01,\n",
              "        2.44389534e-01, -1.99670792e-02,  1.58510208e-02,  3.16887856e-01,\n",
              "        4.18566704e-01,  2.98064232e-01,  4.83650208e-01, -2.17109680e-01,\n",
              "        2.95473099e-01,  7.52210617e-01,  6.92072868e-01,  5.18206596e-01,\n",
              "        5.83209038e-01,  1.69625282e-01,  7.98287392e-01,  2.49058723e-01,\n",
              "        3.68681908e-01,  4.94289398e-02,  2.76419640e-01,  2.40550041e-01,\n",
              "        3.46727371e-02,  7.33137131e-02,  2.98594475e-01,  4.69489098e-01,\n",
              "        3.21761131e-01,  4.43943977e-01,  6.10819817e-01, -9.07135010e-03,\n",
              "        5.69237709e-01,  4.70037460e-02,  5.10573387e-01,  8.04344177e-01,\n",
              "       -1.54026985e-01,  3.97863388e-02,  1.05918884e-01,  1.15318298e-02,\n",
              "       -1.44364357e-01,  4.14393425e-01, -5.55353165e-02,  1.23163223e-01,\n",
              "        2.16410637e-01,  4.43334579e-02,  5.22661209e-02,  5.75609207e-02,\n",
              "        9.35125351e-02,  2.45547295e-01,  5.69715500e-02,  7.19719887e-01,\n",
              "        1.69764519e-01,  1.60262108e-01, -2.66237259e-02,  2.67803192e-01,\n",
              "        1.74331665e-01,  1.86545372e-01,  4.84323502e-02,  1.78168297e-01,\n",
              "        2.58753777e-01,  4.31132317e-01,  4.64588165e-01, -2.83927917e-02,\n",
              "        6.89284325e-01,  2.45692253e-01, -2.03676224e-02, -1.67045593e-02,\n",
              "        8.67701530e-01, -7.19184875e-02,  3.59986305e-01,  4.82007980e-01,\n",
              "        4.77906227e-01,  1.64015770e-01,  6.06418610e-01,  4.28111076e-01,\n",
              "        5.07090569e-01,  4.33262825e-01,  1.04062080e-01,  4.40077782e-01,\n",
              "        2.50197411e-01,  8.59530449e-01, -9.59491730e-03,  8.37140083e-01,\n",
              "        5.28120995e-01,  3.54788780e-01,  2.31603622e-01,  2.28309631e-02,\n",
              "        3.63541603e-01,  2.77299881e-01,  1.83863640e-01,  2.81591415e-02,\n",
              "        7.15363503e-01,  6.77823067e-01,  8.98399353e-02,  3.68891716e-01,\n",
              "        6.73607826e-01,  3.58958244e-01, -1.44371033e-01,  4.06916618e-01,\n",
              "        6.43292427e-01, -2.74686813e-02,  2.92632103e-01,  3.43798637e-01,\n",
              "       -3.67889404e-02,  1.73399925e-01,  2.16648102e-01,  3.18342209e-01,\n",
              "        4.32110786e-01, -1.83639526e-02,  5.28907776e-02,  3.92172813e-01,\n",
              "       -7.52687454e-02,  2.65030861e-01,  6.96051598e-01,  4.82401848e-01,\n",
              "        1.38842583e-01,  1.33466721e-02, -1.72593117e-01,  5.49205780e-01,\n",
              "        2.65568733e-01,  7.47931480e-01,  3.39431763e-01, -6.93988800e-03,\n",
              "        7.74860382e-03,  8.14985275e-01,  1.70242310e-01,  7.80628204e-01,\n",
              "        8.55595589e-01,  4.10757065e-02,  6.73656464e-02,  3.44901085e-01,\n",
              "        1.09334278e+00, -3.84035110e-02,  6.86721802e-02,  8.37477684e-01,\n",
              "        2.30812073e-01,  2.33113289e-01,  6.18390083e-01,  4.19558525e-01,\n",
              "        6.44000053e-01,  1.59905434e-01,  6.96789742e-01,  4.83813286e-01,\n",
              "       -2.14033127e-02, -2.10218430e-02,  1.63851738e-01, -7.36684799e-02,\n",
              "        3.72010231e-01,  1.24342918e-01,  3.38742256e-01,  3.09108734e-01,\n",
              "        1.23133659e-01,  7.59942055e-01,  3.00742149e-01, -2.15455055e-01,\n",
              "        1.61303520e-01,  1.99528694e-01,  2.69192696e-01,  1.02693081e+00,\n",
              "        6.63529396e-01,  1.16803169e-01,  9.72938538e-02,  5.12517929e-01,\n",
              "        8.23159218e-01,  7.87074089e-01,  1.65331841e-01,  2.60497093e-01,\n",
              "        3.62002373e-01,  2.70586014e-02,  5.26113510e-02,  1.17549896e-01,\n",
              "        1.00566769e+00,  1.16090775e-02,  6.39247894e-03,  6.55679703e-01,\n",
              "        1.33338928e-01,  7.11180687e-01,  1.89532280e-01,  3.98646355e-01,\n",
              "       -1.06620789e-01,  1.72477722e-01,  2.00434685e-01,  5.54485321e-02,\n",
              "       -6.57510757e-02,  6.92875862e-01,  6.71710014e-01,  1.53400421e-01,\n",
              "        8.09478760e-02,  7.70943642e-01, -6.05287552e-02,  2.85797119e-02,\n",
              "        2.00926781e-01,  5.98183632e-01,  4.64756966e-01, -2.48689651e-02,\n",
              "       -1.19230270e-01,  8.10235023e-01,  2.36858368e-01,  6.07385635e-02,\n",
              "        7.74526596e-02,  5.38996696e-01, -9.86061096e-02,  1.07342815e+00,\n",
              "        9.42294121e-01, -4.22134399e-02,  2.60739326e-01, -4.61330414e-02,\n",
              "        1.00448608e-01,  2.86190987e-01,  5.24201393e-01,  8.38965416e-01,\n",
              "        4.17643547e-01,  2.77968407e-01,  2.47103691e-01,  3.00502777e-01,\n",
              "        1.38324738e-01,  1.85706139e-01, -4.77590561e-02,  5.98233223e-01,\n",
              "        3.11717033e-01,  9.66196060e-02,  5.56686401e-01, -1.05434418e-01,\n",
              "        8.43439102e-02,  4.71782684e-01,  8.21442604e-01,  5.10134697e-01,\n",
              "        5.25218010e-01,  1.00997925e-01,  1.16604805e-01,  4.06790733e-01,\n",
              "        8.32624435e-02,  2.44646072e-02,  5.44009209e-01, -8.85782242e-02,\n",
              "        5.45606613e-02, -9.69705582e-02, -2.46143341e-03,  5.85505486e-01,\n",
              "        5.97773552e-01,  9.66656685e-01,  1.38149261e-02,  3.61522675e-01,\n",
              "       -7.23638535e-02, -1.24199867e-01,  2.48162270e-01,  3.49696159e-01,\n",
              "       -6.32829666e-02,  3.01582336e-01,  1.49926186e-01,  1.43252373e-01,\n",
              "        2.42004395e-02,  5.72996140e-02,  2.25519180e-01,  1.76559448e-01,\n",
              "        1.05250359e-01, -4.49829102e-02,  7.34313011e-01,  4.89902496e-03,\n",
              "        4.51666832e-01,  4.11256790e-01,  5.32454491e-01,  9.38353539e-01,\n",
              "        7.82273293e-01,  8.17098618e-02, -2.55436897e-01,  2.99738884e-01,\n",
              "        2.93259621e-01,  6.44598007e-01,  6.88050270e-01,  3.33166122e-02,\n",
              "       -7.28502274e-02,  4.73181725e-01,  1.33123398e-02,  6.99756622e-01,\n",
              "        4.19848442e-01,  2.17505455e-01, -2.13081360e-01, -2.51474380e-02,\n",
              "        7.26651192e-01, -6.07252121e-02, -1.69119835e-01,  1.96387291e-01,\n",
              "       -2.55406380e-01,  5.29368401e-01,  8.44027519e-01,  3.62309456e-01,\n",
              "        1.69795990e-01,  2.98140526e-01,  6.87026978e-01,  2.19698906e-01,\n",
              "        3.91919136e-01,  1.06642723e-01,  4.17727470e-01,  7.62797356e-01,\n",
              "        2.68061638e-01, -1.68925285e-01,  3.30254555e-01,  4.01312828e-01,\n",
              "        3.19157600e-01,  4.24286842e-01,  4.26321030e-02,  3.30693245e-01,\n",
              "       -8.55560303e-02,  6.43683434e-01,  9.30814743e-02,  5.91611862e-02,\n",
              "        7.12840080e-01,  4.86667633e-01,  4.40262794e-01,  2.02881813e-01,\n",
              "        7.62841225e-01,  1.99410439e-01,  3.11822891e-02,  2.26545334e-02,\n",
              "        7.86085129e-02,  3.64550591e-01,  1.96189880e-02, -2.60467529e-02,\n",
              "        7.71914482e-01,  9.04850960e-01,  2.51209259e-01, -2.86016464e-02,\n",
              "        5.68442345e-01,  5.60957909e-01,  7.99996376e-01,  5.41334152e-02,\n",
              "        6.39252663e-01,  1.41600609e-01, -1.79510117e-02,  8.87263298e-01,\n",
              "        1.54307365e-01,  1.07520103e-01,  2.05348015e-01,  2.07771301e-01,\n",
              "        4.21202660e-01,  7.14921951e-02, -2.03866959e-02, -4.04129028e-02,\n",
              "        8.02621841e-02,  1.30877495e-01,  3.88585091e-01,  1.39942169e-01,\n",
              "        1.46536827e-01,  8.78672600e-01,  5.90963364e-02, -1.28981590e-01,\n",
              "       -1.89301491e-01, -3.09619904e-02,  1.38300896e-01,  3.05774689e-01,\n",
              "        4.51701164e-01,  1.34493828e-01, -5.19723892e-02,  1.17749500e+00,\n",
              "        1.22714043e-01,  3.45073700e-01,  4.48526382e-01,  2.27159500e-01,\n",
              "        2.38696098e-01,  4.53939438e-02,  1.12801552e-01,  1.06155396e-01,\n",
              "        4.94947433e-02,  4.18662071e-01,  1.17085457e-01, -2.56309509e-02,\n",
              "        1.05458355e+00,  6.71330452e-01,  2.03864098e-01,  1.13457680e-01,\n",
              "        1.62146568e-01, -7.27262497e-02,  3.25966835e-01,  2.50174522e-01,\n",
              "        8.28789711e-01,  1.74687386e-01,  5.05151749e-02,  1.75814629e-01,\n",
              "        7.17401505e-02,  1.89826012e-01,  1.57813072e-01,  2.28029251e-01,\n",
              "       -7.58171082e-03, -2.28013992e-02,  4.68324661e-01,  3.78332138e-02,\n",
              "        3.26509476e-02,  8.77714157e-02,  1.79816246e-01,  3.57122421e-02,\n",
              "       -1.21011734e-02,  6.21395111e-02,  3.91715050e-01, -1.22537613e-02,\n",
              "       -2.32544899e-01,  1.24446869e-01,  1.15860939e-01, -6.36196136e-03,\n",
              "        1.01387024e-01,  1.23605728e-02,  1.68119431e-01,  3.09407234e-01,\n",
              "       -9.41810608e-02,  2.77407646e-01, -1.33960724e-01, -5.35573959e-02,\n",
              "        3.70392799e-01,  2.94266701e-01,  1.52579308e-01,  1.66428566e-01,\n",
              "        5.71167946e-01,  4.87702370e-01, -1.25845909e-01,  2.60553360e-02,\n",
              "        9.03606415e-02, -8.42113495e-02,  3.69879723e-01,  1.53212547e-01,\n",
              "        7.16061592e-01,  8.81408691e-01,  7.72470474e-01,  9.09414291e-02,\n",
              "        1.92391396e-01, -1.71175003e-02,  1.09245396e+00,  6.10303879e-02,\n",
              "        5.94687462e-01,  2.21110344e-01,  3.12212944e-01, -6.36682510e-02,\n",
              "       -4.37574387e-02,  9.90834236e-01,  3.04041862e-01,  3.00608635e-01,\n",
              "       -7.27977753e-02,  5.00281334e-01,  3.33350182e-01, -8.26072693e-02,\n",
              "        6.49878502e-01, -1.60476685e-01,  2.65219688e-01,  6.48493767e-01,\n",
              "        7.05161095e-01,  2.66989708e-01, -2.20021248e-01,  5.42973518e-01,\n",
              "        4.07269478e-01, -3.15427780e-02, -7.54346848e-02, -9.30128098e-02,\n",
              "        4.65680122e-01,  8.44254494e-01,  4.59540367e-01,  7.68537521e-02,\n",
              "        6.33591652e-01,  2.02123642e-01, -1.62133217e-01,  5.19101143e-01,\n",
              "        4.23575401e-01, -2.05297470e-02, -1.43624306e-01,  4.08774376e-01,\n",
              "        1.04828835e-01,  9.67473984e-02,  6.22296333e-01,  3.76559258e-01,\n",
              "        8.46481323e-03,  7.02792168e-01,  1.00566578e+00,  4.09154892e-02,\n",
              "        9.42540169e-01,  3.02667618e-01,  1.98486328e-01,  6.30712509e-02,\n",
              "        1.38429642e-01, -4.08315659e-02,  6.36157036e-01,  2.83965111e-01,\n",
              "        3.28524590e-01,  7.20482826e-01, -5.74579239e-02,  1.37407303e-01,\n",
              "        4.72004890e-01,  2.00713158e-01,  9.47952271e-04,  3.51333618e-03,\n",
              "        6.61126137e-01, -3.32212448e-02,  2.26678848e-02,  2.44301796e-01,\n",
              "        1.08815193e-01, -1.35890961e-01,  3.78199577e-01,  7.80663490e-01,\n",
              "       -1.35097504e-01,  1.57357216e-01,  6.16631508e-01,  2.91286469e-01,\n",
              "        1.02911949e-01,  2.79526711e-01,  3.19451332e-01, -3.47337723e-02,\n",
              "        3.55263710e-01,  4.15995598e-01,  2.42449760e-01, -2.96211243e-02,\n",
              "        8.97111893e-02,  4.37972069e-01,  5.33370972e-02, -4.82950211e-02,\n",
              "        1.66678429e-01,  4.48958397e-01,  6.49435997e-01,  2.02003479e-01,\n",
              "        1.13087177e+00, -4.97941971e-02,  4.00557518e-01,  5.48207283e-01,\n",
              "        3.43704224e-02, -2.03558922e-01, -2.51455307e-02, -1.24311447e-02,\n",
              "        6.40707016e-02,  5.70490837e-01,  2.09990501e-01,  4.32423592e-01,\n",
              "        3.56295586e-01,  1.20909691e-01,  2.69827843e-01,  3.83802414e-01,\n",
              "        8.97550583e-02,  3.07037354e-01,  4.46784019e-01,  1.90651894e-01,\n",
              "       -1.15509033e-02, -2.10266113e-02,  3.07538033e-01,  2.44790077e-01,\n",
              "        2.88689613e-01,  4.13462639e-01,  6.46924019e-01,  6.86736107e-01,\n",
              "        1.49665833e-01,  3.12318802e-02,  1.77210808e-01,  1.10449791e-01,\n",
              "        2.95392036e-01,  2.06934929e-01,  1.44369125e-01,  7.94854164e-01,\n",
              "        5.68767548e-01,  1.05401039e-01,  8.96043777e-02,  1.19669914e-01,\n",
              "        1.59611702e-01,  1.21748924e-01,  4.95406151e-01,  5.41782379e-02,\n",
              "        2.31722832e-01, -1.55590057e-01,  1.04981422e-01,  1.46803570e+00,\n",
              "        2.43347168e-01,  5.34296989e-01, -6.97526932e-02,  2.64484406e-01,\n",
              "        6.19163513e-02,  8.27312469e-03,  7.00464249e-01, -9.96170044e-02,\n",
              "        9.50813293e-02,  4.00527954e-01, -9.02824402e-02,  2.00779915e-01,\n",
              "       -6.55632019e-02,  1.10147476e-01,  5.80780983e-01,  5.35328865e-01,\n",
              "        1.41153336e-02, -2.78005600e-02,  6.00289345e-01, -2.64549255e-02,\n",
              "        3.76462936e-02, -5.30462265e-02,  2.05687523e-01,  4.55485344e-01,\n",
              "        3.30459595e-01,  1.72227859e-01, -9.31777954e-02, -3.29113007e-02,\n",
              "       -1.76706314e-02,  1.54247284e-01,  2.23312378e-01,  7.42769241e-02,\n",
              "        7.29501724e-01,  2.33402252e-01,  1.54540062e-01, -7.61346817e-02,\n",
              "        2.69546509e-02,  5.70223808e-01,  7.62586594e-02,  4.75665092e-01,\n",
              "        2.43196487e-02,  2.89916039e-01,  6.34829521e-01,  2.41858482e-01,\n",
              "        1.36229515e-01,  1.27310753e-01,  9.86518860e-02,  6.14798546e-01,\n",
              "        1.33645058e-01,  3.52410316e-01,  5.25216103e-01,  5.34885406e-01,\n",
              "       -9.91964340e-02, -1.28135681e-02,  1.27639771e-02,  5.79768181e-01,\n",
              "        3.24852943e-01,  1.16538525e+00, -4.71811295e-02, -1.14159584e-01,\n",
              "        6.01180077e-01,  3.75776291e-02,  2.93140411e-02,  2.80128479e-01,\n",
              "        7.89322853e-01, -5.99222183e-02,  6.06068611e-01,  4.12232399e-01,\n",
              "       -7.83853531e-02,  3.76521111e-01,  6.97850227e-01])"
            ]
          },
          "execution_count": 77,
          "metadata": {},
          "output_type": "execute_result"
        }
      ],
      "source": [
        "#Enter Your Code, Execute and take the Screenshot\n",
        "predictions =LinearReg.predict(x_test)\n",
        "predictions"
      ]
    },
    {
      "attachments": {},
      "cell_type": "markdown",
      "metadata": {},
      "source": [
        "#### Using the `predictions` and the `y_test` dataframe calculate the value for each metric using the appropriate function.\n"
      ]
    },
    {
      "cell_type": "code",
      "execution_count": 78,
      "metadata": {
        "trusted": true
      },
      "outputs": [
        {
          "name": "stdout",
          "output_type": "stream",
          "text": [
            "Mean absolute error: 0.27\n",
            "Mean Squared error: 0.12\n",
            "R2 error: 0.39\n"
          ]
        }
      ],
      "source": [
        "from sklearn.metrics import mean_absolute_error ,mean_squared_error,r2_score\n",
        "LinearRegression_MAE = mean_absolute_error(y_test,predictions)\n",
        "LinearRegression_MSE = mean_squared_error(y_test,predictions)\n",
        "LinearRegression_R2 = r2_score(y_test,predictions)\n",
        "print(\"Mean absolute error: %.2f\" % LinearRegression_MAE)\n",
        "print(\"Mean Squared error: %.2f\" % LinearRegression_MSE)\n",
        "print(\"R2 error: %.2f\" % LinearRegression_R2)"
      ]
    },
    {
      "attachments": {},
      "cell_type": "markdown",
      "metadata": {},
      "source": [
        "#### Showing that MAE, MSE, and R2 in a tabular format using data frame for the linear model.\n"
      ]
    },
    {
      "cell_type": "code",
      "execution_count": 85,
      "metadata": {
        "trusted": true
      },
      "outputs": [
        {
          "name": "stdout",
          "output_type": "stream",
          "text": [
            "+----+----------------------+----------+\n",
            "|    | error_type           |    value |\n",
            "|----+----------------------+----------|\n",
            "|  0 | LinearRegression_MAE | 0.265564 |\n",
            "|  1 | LinearRegression_MSE | 0.123146 |\n",
            "|  2 | LinearRegression_R2  | 0.386281 |\n",
            "+----+----------------------+----------+\n"
          ]
        }
      ],
      "source": [
        "await piplite.install(['tabulate'])\n",
        "from tabulate import tabulate\n",
        "dict = {'error_type':['LinearRegression_MAE','LinearRegression_MSE','LinearRegression_R2'],\n",
        "        \n",
        "        'value':[LinearRegression_MAE,LinearRegression_MSE,LinearRegression_R2]}\n",
        "Report = pd.DataFrame(dict)\n",
        "print(tabulate(Report, headers = 'keys', tablefmt = 'psql'))"
      ]
    },
    {
      "cell_type": "markdown",
      "metadata": {},
      "source": [
        "### KNN\n"
      ]
    },
    {
      "attachments": {},
      "cell_type": "markdown",
      "metadata": {},
      "source": [
        "#### Creating and training a KNN model called KNN using the training data (`x_train`, `y_train`) with the `n_neighbors` parameter set to `4`.\n"
      ]
    },
    {
      "cell_type": "code",
      "execution_count": 22,
      "metadata": {
        "trusted": true
      },
      "outputs": [],
      "source": [
        "KNN = KNeighborsClassifier(n_neighbors=4).fit(x_train,y_train)"
      ]
    },
    {
      "attachments": {},
      "cell_type": "markdown",
      "metadata": {},
      "source": [
        "#### Using the `predict` method on the testing data (`x_test`) and save it to the array `predictions`.\n"
      ]
    },
    {
      "cell_type": "code",
      "execution_count": 119,
      "metadata": {
        "trusted": true
      },
      "outputs": [
        {
          "data": {
            "text/plain": [
              "array([0., 0., 1., 0., 0., 1., 0., 0., 0., 0., 0., 0., 0., 0., 0., 0., 0.,\n",
              "       0., 0., 0., 0., 1., 0., 0., 0., 0., 0., 0., 0., 0., 0., 0., 0., 1.,\n",
              "       0., 0., 0., 0., 1., 0., 0., 0., 1., 0., 0., 0., 0., 0., 0., 0., 1.,\n",
              "       0., 0., 0., 0., 1., 0., 0., 0., 0., 0., 0., 0., 0., 0., 0., 0., 0.,\n",
              "       0., 0., 0., 1., 0., 0., 0., 0., 0., 0., 0., 0., 0., 0., 0., 0., 1.,\n",
              "       0., 0., 0., 1., 0., 0., 0., 0., 0., 1., 0., 0., 0., 0., 1., 0., 1.,\n",
              "       0., 1., 1., 0., 0., 0., 0., 0., 0., 0., 0., 0., 0., 1., 1., 0., 0.,\n",
              "       0., 1., 0., 0., 0., 0., 0., 0., 0., 0., 0., 0., 0., 0., 0., 1., 1.,\n",
              "       0., 0., 0., 1., 0., 1., 0., 0., 0., 1., 0., 1., 1., 0., 0., 0., 1.,\n",
              "       0., 0., 1., 0., 0., 0., 0., 1., 0., 0., 1., 0., 0., 0., 0., 0., 0.,\n",
              "       0., 1., 0., 1., 1., 0., 0., 0., 0., 1., 0., 0., 0., 0., 1., 1., 0.,\n",
              "       0., 0., 0., 0., 0., 1., 0., 0., 1., 0., 1., 0., 0., 0., 0., 0., 0.,\n",
              "       0., 1., 0., 0., 0., 1., 0., 0., 0., 1., 0., 0., 0., 1., 0., 0., 0.,\n",
              "       0., 0., 1., 1., 0., 0., 0., 0., 0., 1., 1., 1., 0., 0., 0., 0., 0.,\n",
              "       0., 0., 0., 0., 0., 0., 0., 0., 1., 0., 0., 0., 0., 1., 0., 0., 1.,\n",
              "       0., 0., 0., 0., 0., 0., 1., 0., 0., 0., 0., 0., 0., 0., 0., 0., 0.,\n",
              "       0., 0., 0., 0., 0., 0., 0., 0., 0., 0., 0., 1., 0., 0., 0., 0., 0.,\n",
              "       0., 1., 0., 0., 0., 0., 1., 0., 0., 0., 0., 0., 0., 0., 0., 0., 0.,\n",
              "       1., 0., 0., 0., 1., 1., 1., 0., 0., 1., 0., 0., 0., 1., 0., 1., 0.,\n",
              "       0., 0., 0., 0., 0., 0., 0., 1., 0., 0., 0., 0., 0., 0., 0., 0., 0.,\n",
              "       1., 1., 0., 0., 1., 0., 1., 0., 0., 0., 0., 1., 0., 0., 0., 0., 0.,\n",
              "       0., 0., 0., 0., 0., 0., 0., 0., 1., 0., 0., 0., 0., 0., 0., 0., 0.,\n",
              "       0., 1., 0., 1., 0., 0., 0., 0., 0., 0., 0., 0., 0., 0., 1., 0., 0.,\n",
              "       0., 0., 0., 0., 0., 1., 0., 0., 0., 0., 1., 0., 0., 0., 0., 0., 0.,\n",
              "       0., 0., 0., 0., 0., 0., 1., 0., 0., 0., 0., 0., 0., 0., 0., 0., 0.,\n",
              "       0., 0., 0., 1., 0., 0., 0., 0., 0., 0., 0., 0., 0., 0., 0., 1., 1.,\n",
              "       0., 0., 0., 0., 1., 0., 0., 0., 0., 0., 0., 0., 0., 0., 0., 0., 0.,\n",
              "       0., 0., 0., 0., 0., 1., 0., 0., 0., 0., 0., 0., 0., 0., 1., 0., 0.,\n",
              "       1., 0., 0., 1., 0., 0., 0., 0., 0., 0., 1., 0., 0., 1., 1., 0., 1.,\n",
              "       0., 0., 0., 0., 0., 0., 0., 0., 1., 0., 0., 0., 0., 0., 0., 0., 0.,\n",
              "       0., 0., 0., 0., 0., 1., 0., 0., 0., 0., 0., 0., 0., 0., 0., 0., 0.,\n",
              "       0., 0., 0., 0., 0., 0., 0., 0., 0., 1., 0., 0., 0., 0., 0., 0., 0.,\n",
              "       0., 0., 0., 0., 0., 0., 0., 0., 0., 0., 0., 0., 0., 0., 0., 0., 0.,\n",
              "       0., 1., 0., 0., 0., 0., 0., 0., 0., 0., 1., 1., 0., 0., 0., 0., 0.,\n",
              "       0., 0., 0., 0., 0., 1., 0., 0., 0., 0., 0., 0., 1., 0., 0., 0., 0.,\n",
              "       0., 0., 0., 0., 0., 0., 0., 0., 0., 0., 0., 0., 1., 0., 0., 0., 0.,\n",
              "       0., 0., 0., 0., 1., 0., 0., 0., 0., 0., 0., 0., 0., 0., 1., 0., 0.,\n",
              "       0., 0., 0., 0., 0., 1., 0., 0., 0., 0., 1., 0., 1., 0., 0., 0., 0.,\n",
              "       0., 0., 1., 0., 1., 0., 0., 0., 0.])"
            ]
          },
          "execution_count": 119,
          "metadata": {},
          "output_type": "execute_result"
        }
      ],
      "source": [
        "predictions =  KNN.predict(x_test)\n",
        "predictions"
      ]
    },
    {
      "attachments": {},
      "cell_type": "markdown",
      "metadata": {},
      "source": [
        "#### Using the `predictions` and the `y_test` dataframe calculate the value for each metric using the appropriate function.\n"
      ]
    },
    {
      "cell_type": "code",
      "execution_count": 113,
      "metadata": {
        "trusted": true
      },
      "outputs": [
        {
          "name": "stdout",
          "output_type": "stream",
          "text": [
            "Accuracy Score: 0.83\n",
            "Jaccard Score : 0.50\n",
            "F1 Score: 0.66\n"
          ]
        }
      ],
      "source": [
        "KNN_Accuracy_Score = accuracy_score(y_test,predictions)\n",
        "KNN_JaccardIndex = jaccard_score(y_test,predictions)\n",
        "KNN_F1_Score = f1_score(y_test,predictions)\n",
        "KNN_Log_Loss=log_loss(y_test,predictions)\n",
        "print(\"Accuracy Score: %.2f\" %KNN_Accuracy_Score)\n",
        "print(\"Jaccard Score : %.2f\" %KNN_JaccardIndex)\n",
        "print(\"F1 Score: %.2f\" %KNN_F1_Score)"
      ]
    },
    {
      "cell_type": "markdown",
      "metadata": {},
      "source": [
        "### Decision Tree\n"
      ]
    },
    {
      "attachments": {},
      "cell_type": "markdown",
      "metadata": {},
      "source": [
        "#### Create and train a Decision Tree model called Tree using the training data (`x_train`, `y_train`).\n"
      ]
    },
    {
      "cell_type": "code",
      "execution_count": 90,
      "metadata": {
        "trusted": true
      },
      "outputs": [],
      "source": [
        "Tree = DecisionTreeClassifier().fit(x_train,y_train)"
      ]
    },
    {
      "attachments": {},
      "cell_type": "markdown",
      "metadata": {},
      "source": [
        "#### Now using the `predict` method on the testing data (`x_test`) and save it to the array `predictions`.\n"
      ]
    },
    {
      "cell_type": "code",
      "execution_count": 120,
      "metadata": {
        "trusted": true
      },
      "outputs": [
        {
          "data": {
            "text/plain": [
              "array([0., 0., 1., 0., 0., 1., 0., 0., 0., 0., 0., 0., 0., 0., 0., 1., 1.,\n",
              "       0., 0., 0., 1., 1., 0., 0., 0., 0., 0., 0., 0., 0., 1., 1., 0., 0.,\n",
              "       0., 1., 0., 0., 1., 0., 0., 0., 1., 1., 0., 0., 0., 1., 1., 0., 0.,\n",
              "       0., 0., 0., 1., 1., 0., 0., 0., 0., 0., 0., 0., 0., 0., 0., 0., 0.,\n",
              "       0., 0., 0., 1., 0., 0., 0., 1., 0., 0., 0., 0., 0., 1., 1., 0., 1.,\n",
              "       0., 0., 0., 1., 0., 0., 1., 0., 0., 1., 0., 0., 0., 0., 1., 0., 1.,\n",
              "       1., 1., 1., 0., 0., 0., 1., 0., 0., 0., 0., 1., 1., 1., 1., 0., 0.,\n",
              "       0., 1., 0., 0., 0., 0., 1., 0., 0., 1., 0., 0., 1., 0., 0., 0., 1.,\n",
              "       0., 0., 0., 0., 0., 1., 1., 0., 0., 1., 1., 1., 0., 1., 0., 0., 1.,\n",
              "       0., 0., 1., 0., 0., 1., 0., 1., 0., 1., 1., 0., 0., 0., 1., 0., 0.,\n",
              "       0., 0., 0., 1., 0., 0., 0., 1., 0., 1., 1., 0., 0., 0., 0., 1., 0.,\n",
              "       0., 0., 0., 0., 0., 1., 0., 0., 1., 0., 1., 0., 0., 0., 0., 1., 0.,\n",
              "       0., 1., 1., 0., 0., 1., 0., 0., 0., 1., 0., 0., 0., 1., 0., 0., 0.,\n",
              "       1., 0., 1., 1., 1., 1., 0., 0., 0., 0., 1., 0., 0., 0., 0., 0., 0.,\n",
              "       0., 1., 1., 0., 0., 0., 1., 1., 1., 1., 1., 0., 0., 0., 0., 0., 1.,\n",
              "       0., 0., 0., 0., 1., 0., 1., 0., 0., 0., 0., 1., 1., 0., 0., 0., 0.,\n",
              "       0., 0., 0., 0., 0., 0., 1., 0., 0., 0., 0., 1., 1., 0., 0., 0., 0.,\n",
              "       0., 1., 0., 0., 0., 0., 1., 1., 1., 0., 0., 1., 0., 0., 0., 0., 0.,\n",
              "       1., 0., 0., 1., 1., 0., 1., 0., 1., 1., 0., 0., 0., 1., 0., 1., 0.,\n",
              "       1., 0., 0., 0., 0., 0., 1., 0., 0., 0., 0., 0., 0., 0., 0., 0., 0.,\n",
              "       0., 1., 0., 0., 0., 1., 0., 0., 1., 0., 0., 1., 0., 0., 0., 0., 0.,\n",
              "       0., 0., 0., 0., 0., 0., 0., 0., 1., 0., 0., 0., 0., 1., 1., 0., 0.,\n",
              "       0., 1., 0., 1., 0., 0., 0., 0., 0., 0., 0., 0., 0., 0., 1., 1., 0.,\n",
              "       0., 0., 0., 1., 0., 1., 0., 0., 1., 0., 0., 0., 0., 0., 0., 0., 0.,\n",
              "       0., 0., 0., 0., 0., 0., 0., 0., 0., 0., 0., 0., 0., 0., 0., 0., 0.,\n",
              "       0., 0., 0., 1., 0., 0., 0., 1., 1., 0., 0., 0., 0., 0., 0., 1., 1.,\n",
              "       1., 0., 0., 0., 1., 0., 1., 0., 0., 0., 0., 1., 0., 0., 0., 0., 0.,\n",
              "       0., 0., 0., 0., 0., 0., 0., 0., 1., 0., 0., 0., 0., 1., 1., 0., 0.,\n",
              "       0., 0., 0., 0., 0., 0., 0., 0., 0., 0., 0., 0., 0., 1., 1., 0., 1.,\n",
              "       0., 0., 0., 0., 0., 1., 0., 0., 1., 0., 0., 0., 0., 0., 0., 0., 0.,\n",
              "       0., 0., 0., 0., 0., 0., 0., 0., 1., 1., 0., 0., 0., 0., 0., 0., 0.,\n",
              "       0., 0., 1., 0., 0., 0., 0., 1., 0., 1., 0., 1., 1., 0., 0., 0., 0.,\n",
              "       0., 0., 0., 0., 0., 0., 0., 0., 0., 0., 0., 0., 0., 0., 0., 1., 0.,\n",
              "       0., 1., 1., 0., 0., 0., 0., 0., 0., 0., 1., 1., 0., 0., 0., 0., 0.,\n",
              "       0., 0., 0., 0., 0., 1., 0., 1., 0., 0., 1., 0., 1., 0., 0., 0., 0.,\n",
              "       0., 0., 0., 1., 0., 0., 0., 1., 0., 0., 0., 0., 0., 1., 0., 0., 0.,\n",
              "       0., 0., 0., 1., 1., 0., 0., 0., 0., 0., 0., 1., 0., 0., 1., 0., 0.,\n",
              "       0., 0., 0., 0., 0., 0., 1., 0., 0., 0., 0., 0., 1., 0., 0., 0., 0.,\n",
              "       0., 1., 1., 0., 1., 1., 0., 0., 1.])"
            ]
          },
          "execution_count": 120,
          "metadata": {},
          "output_type": "execute_result"
        }
      ],
      "source": [
        "predictions = Tree.predict(x_test)\n",
        "predictions"
      ]
    },
    {
      "attachments": {},
      "cell_type": "markdown",
      "metadata": {},
      "source": [
        "#### Using the `predictions` and the `y_test` dataframe calculate the value for each metric using the appropriate function.\n"
      ]
    },
    {
      "cell_type": "code",
      "execution_count": 121,
      "metadata": {
        "trusted": true
      },
      "outputs": [
        {
          "name": "stdout",
          "output_type": "stream",
          "text": [
            "Accuracy Score: 0.77\n",
            "Jaccard Score : 0.39\n",
            "F1 Score: 0.56\n",
            "Log Loss:8.07\n"
          ]
        }
      ],
      "source": [
        "Tree_Accuracy_Score = accuracy_score(y_test,predictions)\n",
        "Tree_JaccardIndex = jaccard_score(y_test,predictions)\n",
        "Tree_F1_Score = f1_score(y_test,predictions)\n",
        "Tree_Log_Loss=log_loss(y_test,predictions)\n",
        "print(\"Accuracy Score: %.2f\" %Tree_Accuracy_Score)\n",
        "print(\"Jaccard Score : %.2f\" %Tree_JaccardIndex)\n",
        "print(\"F1 Score: %.2f\" %Tree_F1_Score)\n",
        "print(\"Log Loss:%.2f\" %Tree_Log_Loss)"
      ]
    },
    {
      "cell_type": "markdown",
      "metadata": {},
      "source": [
        "### Logistic Regression\n"
      ]
    },
    {
      "attachments": {},
      "cell_type": "markdown",
      "metadata": {},
      "source": [
        "#### Using the `train_test_split` function to split the `features` and `Y` dataframes with a `test_size` of `0.2` and the `random_state` set to `1`.\n"
      ]
    },
    {
      "cell_type": "code",
      "execution_count": 97,
      "metadata": {
        "trusted": true
      },
      "outputs": [],
      "source": [
        "x_train, x_test, y_train, y_test = train_test_split(features,Y,test_size=0.2,random_state=1)"
      ]
    },
    {
      "attachments": {},
      "cell_type": "markdown",
      "metadata": {},
      "source": [
        "#### Creating and training a LogisticRegression model called LR using the training data (`x_train`, `y_train`) with the `solver` parameter set to `liblinear`.\n"
      ]
    },
    {
      "cell_type": "code",
      "execution_count": 99,
      "metadata": {
        "trusted": true
      },
      "outputs": [],
      "source": [
        "LR = LogisticRegression(solver='liblinear').fit(x_train,y_train)"
      ]
    },
    {
      "attachments": {},
      "cell_type": "markdown",
      "metadata": {},
      "source": [
        "#### Using the `predict` method on the testing data (`x_test`) and save it to the array `predictions`.\n"
      ]
    },
    {
      "cell_type": "code",
      "execution_count": 122,
      "metadata": {
        "trusted": true
      },
      "outputs": [
        {
          "data": {
            "text/plain": [
              "array([0., 0., 0., 0., 0., 1., 0., 0., 0., 0., 1., 1., 0., 0., 0., 0., 1.,\n",
              "       0., 0., 0., 1., 1., 0., 0., 0., 0., 0., 0., 0., 0., 0., 0., 0., 1.,\n",
              "       1., 1., 1., 0., 1., 0., 0., 0., 0., 0., 0., 0., 0., 0., 0., 0., 1.,\n",
              "       0., 1., 0., 1., 1., 0., 0., 0., 0., 0., 0., 0., 0., 0., 0., 0., 0.,\n",
              "       0., 0., 0., 1., 0., 0., 0., 0., 0., 0., 0., 0., 0., 0., 1., 0., 1.,\n",
              "       0., 0., 0., 1., 0., 0., 0., 0., 0., 1., 0., 0., 0., 0., 0., 0., 1.,\n",
              "       0., 1., 1., 0., 0., 0., 0., 0., 0., 0., 1., 1., 0., 0., 1., 0., 0.,\n",
              "       0., 1., 0., 0., 0., 0., 0., 0., 0., 0., 0., 0., 0., 0., 0., 1., 0.,\n",
              "       0., 0., 0., 1., 0., 1., 0., 0., 0., 1., 0., 1., 1., 0., 0., 0., 1.,\n",
              "       0., 0., 1., 0., 0., 1., 0., 1., 0., 1., 1., 0., 0., 0., 0., 0., 0.,\n",
              "       0., 0., 0., 1., 0., 0., 0., 0., 0., 1., 1., 0., 0., 0., 1., 1., 0.,\n",
              "       0., 0., 0., 0., 0., 1., 0., 0., 1., 0., 1., 0., 0., 0., 0., 0., 0.,\n",
              "       0., 1., 1., 0., 0., 1., 0., 0., 0., 1., 0., 0., 0., 1., 0., 0., 0.,\n",
              "       1., 0., 1., 1., 0., 0., 0., 0., 0., 1., 1., 0., 0., 0., 0., 0., 0.,\n",
              "       0., 1., 0., 0., 1., 0., 0., 0., 1., 1., 1., 0., 0., 0., 0., 0., 1.,\n",
              "       0., 0., 0., 0., 1., 1., 1., 0., 0., 0., 0., 0., 0., 0., 0., 0., 0.,\n",
              "       0., 0., 0., 0., 0., 0., 1., 0., 0., 0., 1., 1., 1., 0., 0., 0., 0.,\n",
              "       1., 1., 0., 0., 1., 0., 1., 0., 0., 0., 0., 1., 0., 0., 0., 0., 1.,\n",
              "       1., 0., 0., 0., 1., 0., 0., 0., 0., 1., 0., 0., 0., 0., 0., 0., 0.,\n",
              "       0., 0., 1., 0., 0., 1., 1., 0., 0., 1., 0., 0., 0., 0., 0., 0., 0.,\n",
              "       1., 1., 0., 0., 1., 1., 1., 0., 1., 0., 0., 1., 0., 0., 0., 0., 0.,\n",
              "       0., 0., 0., 0., 0., 0., 0., 0., 1., 0., 0., 0., 0., 0., 0., 0., 0.,\n",
              "       0., 1., 0., 0., 0., 0., 0., 0., 0., 0., 0., 0., 0., 0., 1., 1., 0.,\n",
              "       0., 0., 0., 0., 0., 1., 0., 0., 0., 0., 0., 0., 0., 0., 0., 0., 0.,\n",
              "       0., 0., 0., 0., 0., 0., 0., 0., 0., 0., 0., 0., 0., 0., 0., 0., 0.,\n",
              "       0., 0., 0., 0., 0., 0., 0., 1., 1., 0., 0., 0., 0., 0., 0., 1., 1.,\n",
              "       1., 0., 0., 0., 1., 0., 1., 0., 0., 0., 0., 1., 0., 0., 0., 0., 0.,\n",
              "       0., 1., 0., 0., 1., 1., 0., 0., 1., 0., 0., 0., 0., 0., 1., 0., 0.,\n",
              "       1., 0., 0., 0., 0., 0., 0., 0., 0., 0., 1., 0., 0., 1., 1., 0., 1.,\n",
              "       0., 0., 0., 0., 0., 1., 0., 0., 1., 0., 0., 0., 0., 0., 0., 1., 0.,\n",
              "       0., 0., 0., 0., 0., 1., 0., 0., 1., 0., 0., 0., 0., 0., 0., 0., 0.,\n",
              "       0., 0., 0., 0., 0., 0., 0., 1., 0., 1., 0., 0., 1., 0., 0., 0., 0.,\n",
              "       0., 1., 0., 0., 0., 0., 0., 0., 0., 0., 1., 0., 0., 0., 0., 0., 0.,\n",
              "       0., 1., 1., 0., 0., 0., 0., 0., 0., 0., 1., 1., 0., 0., 0., 0., 0.,\n",
              "       0., 0., 0., 0., 0., 1., 0., 1., 0., 0., 0., 0., 1., 0., 0., 0., 0.,\n",
              "       0., 0., 0., 1., 1., 0., 0., 1., 0., 0., 0., 0., 0., 0., 0., 0., 0.,\n",
              "       0., 0., 0., 0., 1., 0., 0., 0., 0., 1., 0., 1., 0., 0., 1., 0., 0.,\n",
              "       0., 0., 1., 0., 0., 1., 1., 0., 0., 0., 1., 0., 1., 0., 0., 1., 0.,\n",
              "       0., 0., 1., 0., 1., 0., 0., 0., 1.])"
            ]
          },
          "execution_count": 122,
          "metadata": {},
          "output_type": "execute_result"
        }
      ],
      "source": [
        "predictions = LR.predict(x_test)\n",
        "predictions"
      ]
    },
    {
      "attachments": {},
      "cell_type": "markdown",
      "metadata": {},
      "source": [
        "#### Using the `predictions` and the `y_test` dataframe calculate the value for each metric using the appropriate function.\n"
      ]
    },
    {
      "cell_type": "code",
      "execution_count": 123,
      "metadata": {
        "trusted": true
      },
      "outputs": [
        {
          "name": "stdout",
          "output_type": "stream",
          "text": [
            "Accuracy Score: 0.84\n",
            "Jaccard Score : 0.50\n",
            "F1 Score: 0.67\n",
            "Log Loss:5.69\n"
          ]
        }
      ],
      "source": [
        "LR_Accuracy_Score = accuracy_score(y_test,predictions)\n",
        "LR_JaccardIndex = jaccard_score(y_test,predictions)\n",
        "LR_F1_Score = f1_score(y_test,predictions)\n",
        "LR_Log_Loss = log_loss(y_test,predictions)\n",
        "print(\"Accuracy Score: %.2f\" %LR_Accuracy_Score)\n",
        "print(\"Jaccard Score : %.2f\" %LR_JaccardIndex)\n",
        "print(\"F1 Score: %.2f\" %LR_F1_Score)\n",
        "print(\"Log Loss:%.2f\" %LR_Log_Loss)"
      ]
    },
    {
      "cell_type": "markdown",
      "metadata": {},
      "source": [
        "### SVM\n"
      ]
    },
    {
      "attachments": {},
      "cell_type": "markdown",
      "metadata": {},
      "source": [
        "#### Creating and training a SVM model called SVM using the training data (`x_train`, `y_train`).\n"
      ]
    },
    {
      "cell_type": "code",
      "execution_count": 108,
      "metadata": {
        "trusted": true
      },
      "outputs": [],
      "source": [
        "from sklearn import svm\n",
        "\n",
        "SVM = svm.SVC(kernel='linear').fit(x_train,y_train)"
      ]
    },
    {
      "attachments": {},
      "cell_type": "markdown",
      "metadata": {},
      "source": [
        "#### Now use the `predict` method on the testing data (`x_test`) and save it to the array `predictions`.\n"
      ]
    },
    {
      "cell_type": "code",
      "execution_count": 110,
      "metadata": {
        "trusted": true
      },
      "outputs": [
        {
          "data": {
            "text/plain": [
              "array([0., 0., 1., 0., 0., 1., 0., 0., 0., 0., 1., 1., 0., 0., 0., 0., 1.,\n",
              "       0., 0., 0., 1., 1., 0., 0., 0., 0., 0., 0., 0., 0., 0., 0., 0., 1.,\n",
              "       1., 0., 1., 0., 1., 0., 0., 0., 0., 0., 0., 0., 0., 0., 0., 0., 1.,\n",
              "       0., 1., 0., 0., 1., 0., 0., 0., 0., 0., 0., 0., 0., 0., 0., 0., 0.,\n",
              "       0., 0., 0., 1., 0., 0., 0., 0., 0., 0., 0., 0., 0., 0., 0., 0., 1.,\n",
              "       0., 0., 0., 1., 0., 0., 1., 0., 0., 1., 0., 0., 0., 0., 0., 0., 1.,\n",
              "       0., 1., 0., 0., 0., 0., 0., 0., 0., 0., 1., 1., 0., 0., 1., 0., 0.,\n",
              "       0., 1., 0., 0., 0., 0., 0., 0., 0., 0., 0., 0., 0., 0., 0., 1., 1.,\n",
              "       0., 0., 0., 1., 0., 1., 0., 0., 0., 1., 0., 1., 1., 0., 0., 0., 1.,\n",
              "       0., 0., 1., 0., 0., 1., 0., 1., 0., 1., 1., 0., 0., 0., 0., 0., 0.,\n",
              "       0., 0., 0., 1., 0., 0., 0., 0., 0., 1., 1., 0., 0., 0., 1., 1., 0.,\n",
              "       0., 0., 0., 0., 0., 1., 0., 0., 1., 0., 1., 0., 0., 0., 0., 0., 0.,\n",
              "       0., 1., 1., 0., 0., 1., 0., 0., 0., 1., 0., 0., 0., 1., 0., 0., 0.,\n",
              "       1., 0., 1., 1., 0., 0., 0., 0., 0., 0., 1., 0., 0., 0., 0., 0., 0.,\n",
              "       0., 1., 0., 0., 1., 0., 0., 0., 1., 1., 0., 0., 0., 0., 0., 0., 0.,\n",
              "       0., 0., 0., 0., 1., 1., 1., 0., 0., 0., 0., 0., 0., 0., 0., 0., 0.,\n",
              "       0., 0., 0., 0., 0., 0., 1., 0., 0., 0., 0., 1., 1., 0., 0., 0., 0.,\n",
              "       1., 1., 0., 0., 0., 0., 1., 0., 0., 0., 0., 1., 0., 0., 0., 0., 0.,\n",
              "       1., 0., 0., 0., 1., 0., 0., 0., 0., 1., 0., 0., 0., 0., 0., 0., 0.,\n",
              "       0., 0., 1., 0., 0., 1., 0., 0., 0., 1., 0., 0., 0., 0., 0., 0., 0.,\n",
              "       1., 1., 0., 0., 1., 0., 1., 0., 1., 0., 0., 1., 0., 0., 0., 0., 0.,\n",
              "       0., 0., 0., 0., 0., 0., 0., 0., 1., 0., 0., 0., 0., 0., 0., 0., 0.,\n",
              "       0., 1., 0., 0., 1., 0., 0., 0., 0., 0., 0., 0., 0., 0., 1., 1., 0.,\n",
              "       0., 0., 0., 0., 0., 1., 0., 0., 0., 0., 0., 0., 0., 0., 0., 0., 0.,\n",
              "       0., 0., 0., 0., 0., 0., 0., 0., 0., 0., 0., 0., 0., 0., 0., 0., 0.,\n",
              "       0., 0., 0., 0., 0., 0., 0., 0., 1., 0., 0., 0., 0., 0., 0., 1., 1.,\n",
              "       1., 0., 0., 0., 1., 0., 1., 0., 0., 0., 0., 1., 0., 0., 0., 0., 0.,\n",
              "       0., 1., 0., 0., 1., 1., 0., 0., 1., 0., 0., 0., 0., 0., 1., 0., 0.,\n",
              "       1., 0., 0., 1., 1., 0., 0., 0., 0., 0., 1., 0., 0., 1., 1., 0., 1.,\n",
              "       0., 0., 0., 0., 0., 1., 0., 0., 1., 0., 0., 0., 0., 0., 0., 1., 0.,\n",
              "       0., 0., 0., 0., 0., 1., 0., 0., 1., 0., 0., 0., 0., 0., 0., 0., 0.,\n",
              "       0., 0., 0., 0., 0., 0., 1., 1., 0., 1., 0., 0., 1., 0., 0., 0., 0.,\n",
              "       0., 1., 0., 0., 0., 0., 0., 0., 0., 0., 1., 0., 0., 0., 0., 0., 0.,\n",
              "       1., 1., 1., 0., 0., 0., 0., 0., 0., 0., 1., 1., 0., 0., 0., 0., 0.,\n",
              "       1., 0., 0., 0., 0., 1., 0., 1., 0., 0., 0., 0., 1., 0., 0., 0., 0.,\n",
              "       0., 0., 0., 1., 1., 0., 0., 0., 0., 0., 0., 0., 1., 0., 0., 0., 0.,\n",
              "       0., 0., 0., 0., 1., 0., 0., 0., 0., 1., 0., 0., 0., 0., 1., 0., 0.,\n",
              "       0., 0., 1., 0., 0., 1., 1., 0., 0., 0., 1., 0., 1., 0., 0., 1., 0.,\n",
              "       0., 0., 1., 0., 1., 0., 0., 0., 1.])"
            ]
          },
          "execution_count": 110,
          "metadata": {},
          "output_type": "execute_result"
        }
      ],
      "source": [
        "predictions = SVM.predict(x_test)\n",
        "predictions"
      ]
    },
    {
      "attachments": {},
      "cell_type": "markdown",
      "metadata": {},
      "source": [
        "####  Using the `predictions` and the `y_test` dataframe calculate the value for each metric using the appropriate function.\n"
      ]
    },
    {
      "cell_type": "code",
      "execution_count": 117,
      "metadata": {
        "trusted": true
      },
      "outputs": [
        {
          "name": "stdout",
          "output_type": "stream",
          "text": [
            "Accuracy Score: 0.83\n",
            "Jaccard Score : 0.50\n",
            "F1 Score: 0.66\n",
            "Log Loss:5.75\n"
          ]
        }
      ],
      "source": [
        "SVM_Accuracy_Score = accuracy_score(y_test,predictions)\n",
        "SVM_JaccardIndex = jaccard_score(y_test,predictions)\n",
        "SVM_F1_Score = f1_score(y_test,predictions)\n",
        "SVM_Log_Loss=log_loss(y_test,predictions)\n",
        "print(\"Accuracy Score: %.2f\" %SVM_Accuracy_Score)\n",
        "print(\"Jaccard Score : %.2f\" %SVM_JaccardIndex)\n",
        "print(\"F1 Score: %.2f\" %SVM_F1_Score)\n",
        "print(\"Log Loss:%.2f\" %SVM_Log_Loss)"
      ]
    },
    {
      "cell_type": "markdown",
      "metadata": {},
      "source": [
        "### Report\n"
      ]
    },
    {
      "attachments": {},
      "cell_type": "markdown",
      "metadata": {},
      "source": [
        "#### Showing the Accuracy,Jaccard Index,F1-Score and LogLoss in a tabular format using data frame for all of the above models.\n",
        "\n",
        "LogLoss is only for Logistic Regression Model\n"
      ]
    },
    {
      "cell_type": "code",
      "execution_count": 118,
      "metadata": {
        "trusted": true
      },
      "outputs": [
        {
          "name": "stdout",
          "output_type": "stream",
          "text": [
            "+---------------+----------+----------+----------+----------+\n",
            "|               |      KNN |     Tree |       LR |      SVM |\n",
            "|---------------+----------+----------+----------+----------|\n",
            "| Accuracy      | 0.833588 | 0.833588 | 0.835115 | 0.833588 |\n",
            "| Jaccard Index | 0.49537  | 0.49537  | 0.504587 | 0.49537  |\n",
            "| F1-Score      | 0.662539 | 0.662539 | 0.670732 | 0.662539 |\n",
            "| LogLoss       | 5.74772  | 5.74772  | 5.69499  | 5.74772  |\n",
            "+---------------+----------+----------+----------+----------+\n"
          ]
        }
      ],
      "source": [
        "d = {'KNN':[KNN_Accuracy_Score,KNN_JaccardIndex,KNN_F1_Score,KNN_Log_Loss],\n",
        "     'Tree':[Tree_Accuracy_Score, Tree_JaccardIndex, Tree_F1_Score, Tree_Log_Loss],\n",
        "     'LR':[LR_Accuracy_Score, LR_JaccardIndex, LR_F1_Score,LR_Log_Loss],\n",
        "     'SVM':[SVM_Accuracy_Score, SVM_JaccardIndex, SVM_F1_Score, SVM_Log_Loss]}\n",
        "Report = pd.DataFrame(data=d, index = ['Accuracy','Jaccard Index','F1-Score', 'LogLoss'])\n",
        "print(tabulate(Report, headers = 'keys', tablefmt = 'psql'))"
      ]
    },
    {
      "cell_type": "markdown",
      "metadata": {},
      "source": [
        "## Change Log\n",
        "\n",
        "| Date (YYYY-MM-DD) | Version | Changed By  | Change Description          |\n",
        "| ----------------- | ------- | ----------- | --------------------------- |\n",
        "| 2022-06-22        | 2.0     | Svitlana K. | Deleted GridSearch and Mock |\n",
        "\n",
        "## <h3 align=\"center\"> © IBM Corporation 2020. All rights reserved. <h3/>\n"
      ]
    },
    {
      "cell_type": "markdown",
      "metadata": {},
      "source": []
    }
  ],
  "metadata": {
    "kernelspec": {
      "display_name": "Pyolite",
      "language": "python",
      "name": "python"
    },
    "language_info": {
      "codemirror_mode": {
        "name": "python",
        "version": 3
      },
      "file_extension": ".py",
      "mimetype": "text/x-python",
      "name": "python",
      "nbconvert_exporter": "python",
      "pygments_lexer": "ipython3",
      "version": "3.8"
    }
  },
  "nbformat": 4,
  "nbformat_minor": 4
}
